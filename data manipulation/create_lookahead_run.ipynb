{
 "cells": [
  {
   "cell_type": "code",
   "execution_count": 1,
   "metadata": {},
   "outputs": [],
   "source": [
    "### Creates new field with the total number of points\n",
    "# Sums the column \"points\" in the following time period\n",
    "#\n",
    "# Input: CSV file with *one* game\n",
    "#\n",
    "# Output: Creates data frame with new columns appended:\n",
    "#   remaining_time_in_game\n",
    "#   points_in_window"
   ]
  },
  {
   "cell_type": "code",
   "execution_count": 2,
   "metadata": {},
   "outputs": [],
   "source": [
    "import pandas as pd"
   ]
  },
  {
   "cell_type": "code",
   "execution_count": 8,
   "metadata": {},
   "outputs": [],
   "source": [
    "# parameters\n",
    "INFILE = \"C:/Users/kcoltin/Downloads/NBA/work_example_1game.csv\"\n",
    "OUTFILE = \"C:/Users/kcoltin/Downloads/NBA/output.csv\"\n",
    "TIME_WINDOW = '180s' # 180s = 3 minutes\n"
   ]
  },
  {
   "cell_type": "code",
   "execution_count": 5,
   "metadata": {},
   "outputs": [
    {
     "name": "stdout",
     "output_type": "stream",
     "text": [
      "(431, 49)\n",
      "   Unnamed: 0   game_id                  data_set       date           a1  \\\n",
      "0           0  20400001  2004-2005 Regular Season  11/2/2004  Jim Jackson   \n",
      "1           1  20400001  2004-2005 Regular Season  11/2/2004  Jim Jackson   \n",
      "2           2  20400001  2004-2005 Regular Season  11/2/2004  Jim Jackson   \n",
      "3           3  20400001  2004-2005 Regular Season  11/2/2004  Jim Jackson   \n",
      "4           4  20400001  2004-2005 Regular Season  11/2/2004  Jim Jackson   \n",
      "\n",
      "               a2        a3             a4            a5               h1  \\\n",
      "0  Maurice Taylor  Yao Ming  Tracy McGrady  Charlie Ward  Tayshaun Prince   \n",
      "1  Maurice Taylor  Yao Ming  Tracy McGrady  Charlie Ward  Tayshaun Prince   \n",
      "2  Maurice Taylor  Yao Ming  Tracy McGrady  Charlie Ward  Tayshaun Prince   \n",
      "3  Maurice Taylor  Yao Ming  Tracy McGrady  Charlie Ward  Tayshaun Prince   \n",
      "4  Maurice Taylor  Yao Ming  Tracy McGrady  Charlie Ward  Tayshaun Prince   \n",
      "\n",
      "    ...    shot_distance original_x original_y converted_x  converted_y  \\\n",
      "0   ...              NaN        NaN        NaN         NaN          NaN   \n",
      "1   ...              NaN        NaN        NaN         NaN          NaN   \n",
      "2   ...             15.0     -149.0        3.0        10.1         88.7   \n",
      "3   ...              NaN        NaN        NaN         NaN          NaN   \n",
      "4   ...              NaN        NaN        NaN         NaN          NaN   \n",
      "\n",
      "                                      description  Home_points_scored  \\\n",
      "0                                             NaN                   0   \n",
      "1       Jump Ball Wallace vs. Yao: Tip to Billups                   0   \n",
      "2  Hamilton 15' Jump Shot (2 PTS) (Wallace 1 AST)                   2   \n",
      "3                          Wallace P.FOUL (P1.T1)                   0   \n",
      "4                  Ward Bad Pass Turnover (P1.T1)                   0   \n",
      "\n",
      "  Away_points_scored home_run away_run  \n",
      "0                  0        0        0  \n",
      "1                  0        0        0  \n",
      "2                  0        2        0  \n",
      "3                  0        2        0  \n",
      "4                  0        2        0  \n",
      "\n",
      "[5 rows x 49 columns]\n"
     ]
    }
   ],
   "source": [
    "# Load file which contains exactly one entire game\n",
    "dat = pd.read_csv(INFILE)\n",
    "\n",
    "# QC\n",
    "print(dat.shape)\n",
    "print(dat.head())"
   ]
  },
  {
   "cell_type": "code",
   "execution_count": 6,
   "metadata": {},
   "outputs": [
    {
     "name": "stdout",
     "output_type": "stream",
     "text": [
      "   elapsed remaining_time  period remaining_time_in_game\n",
      "0  0:00:00        0:12:00       1    2020-01-01 00:48:00\n",
      "1  0:00:00        0:12:00       1    2020-01-01 00:48:00\n",
      "2  0:00:15        0:11:45       1    2020-01-01 00:47:45\n",
      "3  0:00:33        0:11:27       1    2020-01-01 00:47:27\n",
      "4  0:00:42        0:11:18       1    2020-01-01 00:47:18\n",
      "     elapsed remaining_time  period remaining_time_in_game\n",
      "426  0:11:36        0:00:24       4    2020-01-01 00:00:24\n",
      "427  0:11:36        0:00:24       4    2020-01-01 00:00:24\n",
      "428  0:11:41        0:00:19       4    2020-01-01 00:00:19\n",
      "429  0:11:43        0:00:17       4    2020-01-01 00:00:17\n",
      "430  0:12:00        0:00:00       4    2020-01-01 00:00:00\n"
     ]
    }
   ],
   "source": [
    "# Create column with total remaining time in game\n",
    "dat['remaining_time_in_game'] = pd.to_datetime(dat['remaining_time']) + pd.to_timedelta((4 - dat['period']) * 12., unit='m')\n",
    "print(dat[['elapsed', 'remaining_time', 'period', 'remaining_time_in_game']].head())\n",
    "print(dat[['elapsed', 'remaining_time', 'period', 'remaining_time_in_game']].tail())\n"
   ]
  },
  {
   "cell_type": "code",
   "execution_count": 18,
   "metadata": {},
   "outputs": [],
   "source": [
    "# Create copy of dataframe with rows in reverse order\n",
    "Rev = dat[::-1] # reverse row order\n",
    "\n",
    "# Calculate rolling sum - points in *previous* 3 minutes of *time remaining* equivalent to *next* 3 minutes of\n",
    "# *elapsed time*\n",
    "Rev.loc[:,'points_lookahead_run'] = Rev[['points', 'remaining_time_in_game']].rolling(window=TIME_WINDOW,\n",
    "                                                                              on='remaining_time_in_game').sum()['points']\n",
    "\n",
    "Out = Rev[::-1] # back to original row order"
   ]
  },
  {
   "cell_type": "code",
   "execution_count": 21,
   "metadata": {},
   "outputs": [
    {
     "name": "stdout",
     "output_type": "stream",
     "text": [
      "  remaining_time  period remaining_time_in_game  points  points_lookahead_run\n",
      "0        0:12:00       1    2020-01-01 00:48:00     NaN                   9.0\n",
      "1        0:12:00       1    2020-01-01 00:48:00     NaN                   9.0\n",
      "2        0:11:45       1    2020-01-01 00:47:45     2.0                   9.0\n",
      "3        0:11:27       1    2020-01-01 00:47:27     NaN                   7.0\n",
      "4        0:11:18       1    2020-01-01 00:47:18     NaN                   7.0\n",
      "    remaining_time  period remaining_time_in_game  points  \\\n",
      "426        0:00:24       4    2020-01-01 00:00:24     NaN   \n",
      "427        0:00:24       4    2020-01-01 00:00:24     NaN   \n",
      "428        0:00:19       4    2020-01-01 00:00:19     0.0   \n",
      "429        0:00:17       4    2020-01-01 00:00:17     NaN   \n",
      "430        0:00:00       4    2020-01-01 00:00:00     NaN   \n",
      "\n",
      "     points_lookahead_run  \n",
      "426                   0.0  \n",
      "427                   0.0  \n",
      "428                   0.0  \n",
      "429                   NaN  \n",
      "430                   NaN  \n"
     ]
    }
   ],
   "source": [
    "# QC\n",
    "print(Out[['remaining_time', 'period', 'remaining_time_in_game', 'points', 'points_lookahead_run']].head())\n",
    "print(Out[['remaining_time', 'period', 'remaining_time_in_game', 'points', 'points_lookahead_run']].tail())"
   ]
  },
  {
   "cell_type": "code",
   "execution_count": 22,
   "metadata": {},
   "outputs": [],
   "source": [
    "Out.to_csv(OUTFILE, index=False)"
   ]
  }
 ],
 "metadata": {
  "kernelspec": {
   "display_name": "Python 3",
   "language": "python",
   "name": "python3"
  },
  "language_info": {
   "codemirror_mode": {
    "name": "ipython",
    "version": 3
   },
   "file_extension": ".py",
   "mimetype": "text/x-python",
   "name": "python",
   "nbconvert_exporter": "python",
   "pygments_lexer": "ipython3",
   "version": "3.6.5"
  }
 },
 "nbformat": 4,
 "nbformat_minor": 2
}
