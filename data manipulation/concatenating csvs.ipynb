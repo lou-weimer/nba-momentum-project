{
 "cells": [
  {
   "cell_type": "code",
   "execution_count": 1,
   "metadata": {},
   "outputs": [],
   "source": [
    "import pandas as pd\n",
    "import os\n",
    "import glob"
   ]
  },
  {
   "cell_type": "code",
   "execution_count": 2,
   "metadata": {},
   "outputs": [],
   "source": [
    "def concatenate(indir=\"C:\\\\Users\\\\Louis\\\\Desktop\\\\NBA project\\\\2015-16new_v2\\\\\", outfile=\"C:\\\\Users\\\\Louis\\\\Desktop\\\\NBA project\\\\2015-17concat\\\\2016-17concat.csv\"):\n",
    "    os.chdir(indir)\n",
    "    fileList=glob.glob(\"*.csv\")\n",
    "    dfList=[]\n",
    "    for filename in fileList:\n",
    "        df=pd.read_csv(filename)\n",
    "        dfList.append(df)\n",
    "    concatDf=pd.concat(dfList, axis=0)\n",
    "    concatDf.to_csv(outfile, index=None)"
   ]
  },
  {
   "cell_type": "code",
   "execution_count": 15,
   "metadata": {},
   "outputs": [],
   "source": [
    "concatenate(indir=\"C:\\\\Users\\\\Louis\\\\Desktop\\\\NBA project\\\\2004-05new_v2\\\\\", outfile=\"C:\\\\Users\\\\Louis\\\\Desktop\\\\NBA project\\\\allseasons_concat\\\\2004-05concat.csv\")"
   ]
  },
  {
   "cell_type": "code",
   "execution_count": null,
   "metadata": {},
   "outputs": [],
   "source": []
  }
 ],
 "metadata": {
  "kernelspec": {
   "display_name": "Python 3",
   "language": "python",
   "name": "python3"
  },
  "language_info": {
   "codemirror_mode": {
    "name": "ipython",
    "version": 3
   },
   "file_extension": ".py",
   "mimetype": "text/x-python",
   "name": "python",
   "nbconvert_exporter": "python",
   "pygments_lexer": "ipython3",
   "version": "3.6.5"
  }
 },
 "nbformat": 4,
 "nbformat_minor": 2
}
